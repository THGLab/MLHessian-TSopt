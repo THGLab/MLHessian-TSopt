{
 "cells": [
  {
   "cell_type": "code",
   "execution_count": null,
   "metadata": {},
   "outputs": [],
   "source": [
    "import numpy as np\n",
    "import matplotlib.pyplot as plt\n",
    "from scipy.interpolate import make_interp_spline\n",
    "from tqdm import tqdm\n",
    "\n",
    "from newtonnet.utils.ase_interface import MLAseCalculator\n",
    "from ase import Atoms, units"
   ]
  },
  {
   "cell_type": "code",
   "execution_count": null,
   "metadata": {},
   "outputs": [],
   "source": [
    "data = dict(np.load('Data/Transition1x/reaction_data/rxn0003.npz'))\n",
    "irc = [0, -8, -7, -6, -5, -4, -3, -2, -1, 1]\n",
    "E_irc = data['E'][irc]\n",
    "R_irc = data['R'][irc]\n",
    "F_irc = data['F'][irc]\n",
    "Z_irc = data['Z'][irc]\n",
    "dR_irc = np.zeros_like(R_irc)\n",
    "for i in range(1, len(R_irc)):\n",
    "    dR_irc[i] = R_irc[i] - R_irc[i-1]\n",
    "dR_abs_irc = np.cumsum(np.linalg.norm(dR_irc, axis=(1,2)))\n",
    "\n",
    "test_size = 901\n",
    "\n",
    "R_test = make_interp_spline(np.linspace(0, 1, len(R_irc)), R_irc, k=1)(np.linspace(0, 1, test_size))\n",
    "Z_test = np.tile(Z_irc[0], (R_test.shape[0], 1))\n",
    "dR_test = np.zeros_like(R_test)\n",
    "for i in range(1, test_size):\n",
    "    dR_test[i] = R_test[i] - R_test[i-1]\n",
    "dR_abs_test = np.cumsum(np.linalg.norm(dR_test, axis=(1,2)))"
   ]
  },
  {
   "cell_type": "code",
   "execution_count": null,
   "metadata": {},
   "outputs": [],
   "source": [
    "mlcalculator = MLAseCalculator(\n",
    "    model_path='20230905_output_final/training_44/models/best_model_state.tar',\n",
    "    settings_path='20230905_output_final/training_44/run_scripts/config050.yml',\n",
    "    method=None,\n",
    "    device='cpu',\n",
    "    )\n",
    "\n",
    "E_test = np.zeros((R_test.shape[0], 1))\n",
    "F_test = np.zeros((R_test.shape[0], R_test.shape[1], 3))\n",
    "\n",
    "for r_test_, r_test in tqdm(enumerate(R_test)):\n",
    "    molecule = Atoms(numbers=Z_test[0], positions=r_test)\n",
    "    mlcalculator.calculate(molecule)\n",
    "    E_test[r_test_] = mlcalculator.results['energy'] / (units.kcal/units.mol)\n",
    "    F_test[r_test_] = mlcalculator.results['forces'] / (units.kcal/units.mol/units.Ang)\n",
    "    \n",
    "print('done!')"
   ]
  },
  {
   "cell_type": "code",
   "execution_count": null,
   "metadata": {},
   "outputs": [],
   "source": [
    "mlcalculator = MLAseCalculator(\n",
    "    model_path='20230319_TrainedModel_Jerry_ANI_training_1/models/best_model_state.tar',\n",
    "    settings_path='20230319_TrainedModel_Jerry_ANI_training_1/run_scripts/ani-newtonnet.yml',\n",
    "    method=None,\n",
    "    device='cpu',\n",
    "    )\n",
    "\n",
    "E_ref = np.zeros((R_test.shape[0], 1))\n",
    "F_ref = np.zeros((R_test.shape[0], R_test.shape[1], 3))\n",
    "for r_test_, r_test in tqdm(enumerate(R_test)):\n",
    "    molecule = Atoms(numbers=Z_test[0], positions=r_test)\n",
    "    mlcalculator.calculate(molecule)\n",
    "    E_ref[r_test_] = mlcalculator.results['energy'] / (units.kcal/units.mol)\n",
    "    F_ref[r_test_] = mlcalculator.results['forces'] / (units.kcal/units.mol/units.Ang)\n",
    "    \n",
    "print('done!')"
   ]
  },
  {
   "cell_type": "code",
   "execution_count": null,
   "metadata": {},
   "outputs": [],
   "source": [
    "plt.figure(figsize=(4, 3))\n",
    "plt.plot(dR_abs_irc, E_irc-E_irc[0], 'ok', label='Truth')\n",
    "plt.plot(dR_abs_test, E_ref-E_irc[0], color='tab:gray', linestyle='--', label='Pre-trained\\n (ANI-1)')\n",
    "plt.plot(dR_abs_test, E_test-E_irc[0], color='tab:red', linestyle='-', label='Fine-tuned\\n (T1x)')\n",
    "plt.xlabel('Reaction coordinate (Å)')\n",
    "plt.ylabel('Relative energy (kcal/mol)')\n",
    "plt.legend()\n",
    "plt.savefig('EnergyFinetuneExample.pdf', bbox_inches='tight')\n",
    "plt.show()"
   ]
  },
  {
   "cell_type": "code",
   "execution_count": null,
   "metadata": {},
   "outputs": [],
   "source": [
    "plt.figure(figsize=(4, 3))\n",
    "plt.plot(dR_abs_irc, np.linalg.norm(F_irc, axis=(1,2)), 'ok', label='Truth')\n",
    "plt.plot(dR_abs_test, np.linalg.norm(F_ref, axis=(1,2)), color='tab:gray', linestyle='--', label='Pre-trained\\n (ANI-1)')\n",
    "plt.plot(dR_abs_test, np.linalg.norm(F_test, axis=(1,2)), color='tab:red', linestyle='-', label='Fine-tuned\\n (T1x)')\n",
    "plt.xlabel('Reaction coordinate (Å)')\n",
    "plt.ylabel('Force magnitude (kcal/mol/Å)')\n",
    "plt.legend()\n",
    "plt.savefig('ForceFinetuneExample.pdf', bbox_inches='tight')\n",
    "plt.show()"
   ]
  }
 ],
 "metadata": {
  "kernelspec": {
   "display_name": "newtonnet",
   "language": "python",
   "name": "python3"
  },
  "language_info": {
   "name": "python",
   "version": "3.10.13"
  }
 },
 "nbformat": 4,
 "nbformat_minor": 2
}
